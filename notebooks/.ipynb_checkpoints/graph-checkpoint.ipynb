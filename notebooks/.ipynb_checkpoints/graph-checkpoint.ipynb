{
 "cells": [
  {
   "cell_type": "code",
   "execution_count": 2,
   "id": "c24ae4e7",
   "metadata": {},
   "outputs": [],
   "source": [
    "def network_graph(input_channels, input_shape, output_channels, output_shape, head_depth=4, tail_depth=4):\n",
    "    \n",
    "    pass\n",
    "    \n",
    "    \n",
    "    \n",
    "    "
   ]
  },
  {
   "cell_type": "code",
   "execution_count": null,
   "id": "e5ff7ed9",
   "metadata": {},
   "outputs": [],
   "source": [
    "def encoder_graph(z_what_latent_size=100, obj_height=100, obj_width=100)"
   ]
  },
  {
   "cell_type": "code",
   "execution_count": null,
   "id": "5fd35ad6",
   "metadata": {},
   "outputs": [],
   "source": []
  }
 ],
 "metadata": {
  "kernelspec": {
   "display_name": "Python [conda env:cellist] *",
   "language": "python",
   "name": "conda-env-cellist-py"
  },
  "language_info": {
   "codemirror_mode": {
    "name": "ipython",
    "version": 3
   },
   "file_extension": ".py",
   "mimetype": "text/x-python",
   "name": "python",
   "nbconvert_exporter": "python",
   "pygments_lexer": "ipython3",
   "version": "3.8.12"
  }
 },
 "nbformat": 4,
 "nbformat_minor": 5
}
