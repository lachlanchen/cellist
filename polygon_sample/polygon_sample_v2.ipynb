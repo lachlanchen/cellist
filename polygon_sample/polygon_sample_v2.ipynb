{
 "cells": [
  {
   "cell_type": "code",
   "execution_count": 346,
   "id": "1c51c3ec",
   "metadata": {},
   "outputs": [],
   "source": [
    "import numpy as np"
   ]
  },
  {
   "cell_type": "code",
   "execution_count": 347,
   "id": "abe447ea",
   "metadata": {},
   "outputs": [],
   "source": [
    "import matplotlib.pyplot as plt"
   ]
  },
  {
   "cell_type": "code",
   "execution_count": 348,
   "id": "8a8f9137",
   "metadata": {},
   "outputs": [],
   "source": [
    "x = np.arange(100)\n",
    "y = np.arange(100)\n",
    "xy = np.meshgrid(x, y)\n",
    "xy = np.stack(xy, axis=-1)"
   ]
  },
  {
   "cell_type": "code",
   "execution_count": 349,
   "id": "93e67980",
   "metadata": {},
   "outputs": [
    {
     "data": {
      "text/plain": [
       "(100, 100, 2)"
      ]
     },
     "execution_count": 349,
     "metadata": {},
     "output_type": "execute_result"
    }
   ],
   "source": [
    "xy.shape"
   ]
  },
  {
   "cell_type": "code",
   "execution_count": null,
   "id": "c4d56a99",
   "metadata": {},
   "outputs": [],
   "source": []
  },
  {
   "cell_type": "code",
   "execution_count": 350,
   "id": "88ac3ab4",
   "metadata": {},
   "outputs": [],
   "source": [
    "# vertices = np.array([[20, 60], [55, 20], [80, 45], [55, 35]])\n",
    "\n",
    "\n",
    "# vertices = np.array([[80, 45], [20, 60], [55, 20], [55, 70]])\n",
    "# vertices = np.array([[20, 60], [55, 20], [80, 35], [95, 35], [55, 70]])\n",
    "# vertices = np.array([[20, 60], [55, 20], [80, 20], [95, 35], [55, 70]])\n",
    "vertices = np.array([[20, 60], [30, 40], [55, 20], [70, 20], [80, 25], [95, 35], [70, 60], [55, 70]])"
   ]
  },
  {
   "cell_type": "code",
   "execution_count": 351,
   "id": "3d70d872",
   "metadata": {},
   "outputs": [],
   "source": [
    "img = np.zeros((100, 100))\n",
    "for i,v in enumerate(vertices):\n",
    "    img[v[1]-i-1:v[1]+i+1, v[0]-i-1:v[0]+i+1]= 1"
   ]
  },
  {
   "cell_type": "code",
   "execution_count": 352,
   "id": "d23bfd57",
   "metadata": {},
   "outputs": [
    {
     "name": "stdout",
     "output_type": "stream",
     "text": [
      "[[59.375 41.25 ]]\n"
     ]
    }
   ],
   "source": [
    "pos_mean = vertices.mean(axis=0, keepdims=True)\n",
    "print(pos_mean)\n",
    "pos_ = pos_mean.astype(int)\n",
    "img[pos_[0, 1], pos_[0, 0]] = 2"
   ]
  },
  {
   "cell_type": "code",
   "execution_count": 353,
   "id": "3dfea97d",
   "metadata": {},
   "outputs": [
    {
     "data": {
      "text/plain": [
       "<matplotlib.image.AxesImage at 0x150ab2c4bbd0>"
      ]
     },
     "execution_count": 353,
     "metadata": {},
     "output_type": "execute_result"
    },
    {
     "data": {
      "image/png": "[encoded data removed]",
      "text/plain": [
       "<Figure size 600x400 with 1 Axes>"
      ]
     },
     "metadata": {
      "needs_background": "light"
     },
     "output_type": "display_data"
    }
   ],
   "source": [
    "fig = plt.figure(dpi=100)\n",
    "plt.imshow(img)"
   ]
  },
  {
   "cell_type": "code",
   "execution_count": null,
   "id": "5050798c",
   "metadata": {},
   "outputs": [],
   "source": []
  },
  {
   "cell_type": "code",
   "execution_count": null,
   "id": "9598686f",
   "metadata": {},
   "outputs": [],
   "source": []
  },
  {
   "cell_type": "code",
   "execution_count": 354,
   "id": "0a89542d",
   "metadata": {},
   "outputs": [],
   "source": [
    "directions = vertices - pos_mean"
   ]
  },
  {
   "cell_type": "code",
   "execution_count": 355,
   "id": "308b33f6",
   "metadata": {},
   "outputs": [
    {
     "data": {
      "text/plain": [
       "array([[-39.375,  18.75 ],\n",
       "       [-29.375,  -1.25 ],\n",
       "       [ -4.375, -21.25 ],\n",
       "       [ 10.625, -21.25 ],\n",
       "       [ 20.625, -16.25 ],\n",
       "       [ 35.625,  -6.25 ],\n",
       "       [ 10.625,  18.75 ],\n",
       "       [ -4.375,  28.75 ]])"
      ]
     },
     "execution_count": 355,
     "metadata": {},
     "output_type": "execute_result"
    }
   ],
   "source": [
    "directions"
   ]
  },
  {
   "cell_type": "code",
   "execution_count": 356,
   "id": "5bb6057f",
   "metadata": {},
   "outputs": [],
   "source": [
    "hypotennuse = np.linalg.norm(directions, axis=-1)"
   ]
  },
  {
   "cell_type": "code",
   "execution_count": 357,
   "id": "b8906d82",
   "metadata": {},
   "outputs": [],
   "source": [
    "angles = np.arctan2(directions[:, 0], directions[:, 1])"
   ]
  },
  {
   "cell_type": "code",
   "execution_count": 358,
   "id": "ef6b3254",
   "metadata": {},
   "outputs": [],
   "source": [
    "# a = []\n",
    "# b = []\n",
    "# for i in range(4):\n",
    "#     for j in range(4):\n",
    "#         if i != j:\n",
    "#             a.append(i)\n",
    "#             b.append(j)\n",
    "\n",
    "# a = [0,1,2,3,4]\n",
    "\n",
    "# b = [1,2,3,4,0]"
   ]
  },
  {
   "cell_type": "code",
   "execution_count": 359,
   "id": "856ea629",
   "metadata": {},
   "outputs": [],
   "source": [
    "a = np.argsort(angles)[::-1]\n",
    "b = np.roll(a, -1)"
   ]
  },
  {
   "cell_type": "code",
   "execution_count": 360,
   "id": "dabbca67",
   "metadata": {},
   "outputs": [
    {
     "data": {
      "text/plain": [
       "array([3, 4, 5, 6, 7, 0, 1, 2])"
      ]
     },
     "execution_count": 360,
     "metadata": {},
     "output_type": "execute_result"
    }
   ],
   "source": [
    "a"
   ]
  },
  {
   "cell_type": "code",
   "execution_count": 361,
   "id": "477429a1",
   "metadata": {},
   "outputs": [
    {
     "data": {
      "text/plain": [
       "array([4, 5, 6, 7, 0, 1, 2, 3])"
      ]
     },
     "execution_count": 361,
     "metadata": {},
     "output_type": "execute_result"
    }
   ],
   "source": [
    "b"
   ]
  },
  {
   "cell_type": "code",
   "execution_count": 362,
   "id": "cda39bc0",
   "metadata": {},
   "outputs": [
    {
     "data": {
      "text/plain": [
       "array([ 2.67794504,  2.23810246,  1.74446753,  0.51554901, -0.15101534,\n",
       "       -1.12637712, -1.61332386, -2.93854744])"
      ]
     },
     "execution_count": 362,
     "metadata": {},
     "output_type": "execute_result"
    }
   ],
   "source": [
    "angles[a]"
   ]
  },
  {
   "cell_type": "code",
   "execution_count": null,
   "id": "206cbd01",
   "metadata": {},
   "outputs": [],
   "source": []
  },
  {
   "cell_type": "code",
   "execution_count": 363,
   "id": "7b652f68",
   "metadata": {},
   "outputs": [],
   "source": [
    "cross_ref = directions[a] * directions[b, ::-1] * np.array([[1, -1.]])"
   ]
  },
  {
   "cell_type": "code",
   "execution_count": 364,
   "id": "ef7b3a4a",
   "metadata": {},
   "outputs": [
    {
     "data": {
      "text/plain": [
       "array([[-172.65625,  438.28125],\n",
       "       [-128.90625,  578.90625],\n",
       "       [ 667.96875,   66.40625],\n",
       "       [ 305.46875,   82.03125],\n",
       "       [ -82.03125, 1132.03125],\n",
       "       [  49.21875,  550.78125],\n",
       "       [ 624.21875,   -5.46875],\n",
       "       [  92.96875,  225.78125]])"
      ]
     },
     "execution_count": 364,
     "metadata": {},
     "output_type": "execute_result"
    }
   ],
   "source": [
    "cross_ref"
   ]
  },
  {
   "cell_type": "code",
   "execution_count": 365,
   "id": "f4d7ab6d",
   "metadata": {},
   "outputs": [],
   "source": [
    "cross_ref = cross_ref.sum(axis=-1)"
   ]
  },
  {
   "cell_type": "code",
   "execution_count": 366,
   "id": "0d68245a",
   "metadata": {},
   "outputs": [
    {
     "data": {
      "text/plain": [
       "array([ 265.625,  450.   ,  734.375,  387.5  , 1050.   ,  600.   ,\n",
       "        618.75 ,  318.75 ])"
      ]
     },
     "execution_count": 366,
     "metadata": {},
     "output_type": "execute_result"
    }
   ],
   "source": [
    "cross_ref"
   ]
  },
  {
   "cell_type": "code",
   "execution_count": 367,
   "id": "724a9be7",
   "metadata": {},
   "outputs": [],
   "source": [
    "score = xy - vertices[:, None, None, :]"
   ]
  },
  {
   "cell_type": "code",
   "execution_count": 368,
   "id": "93aa3db8",
   "metadata": {},
   "outputs": [
    {
     "data": {
      "text/plain": [
       "(8, 100, 100, 2)"
      ]
     },
     "execution_count": 368,
     "metadata": {},
     "output_type": "execute_result"
    }
   ],
   "source": [
    "score.shape"
   ]
  },
  {
   "cell_type": "code",
   "execution_count": 369,
   "id": "f0186a43",
   "metadata": {},
   "outputs": [
    {
     "data": {
      "text/plain": [
       "(100, 100, 2)"
      ]
     },
     "execution_count": 369,
     "metadata": {},
     "output_type": "execute_result"
    }
   ],
   "source": [
    "xy.shape"
   ]
  },
  {
   "cell_type": "code",
   "execution_count": 370,
   "id": "0602899e",
   "metadata": {},
   "outputs": [],
   "source": [
    "score = vertices[:, None, None, :] - xy\n",
    "score = score[a] * score[b, :, :, ::-1] * np.array([1, -1])\n",
    "# score = 1/(1+ np.exp(np.sign(score.sum(axis=-1)).sum(0)*-5))\n",
    "# score = (np.sign(score.sum(axis=-1)) * np.sign(cross_ref[:, None, None])).sum(0)\n",
    "score = (np.sign(score.sum(axis=-1))).sum(0)\n"
   ]
  },
  {
   "cell_type": "code",
   "execution_count": 371,
   "id": "5694dc3b",
   "metadata": {},
   "outputs": [
    {
     "data": {
      "text/plain": [
       "array([[2, 2, 2, ..., 2, 2, 2],\n",
       "       [2, 2, 2, ..., 2, 2, 2],\n",
       "       [2, 2, 2, ..., 2, 2, 2],\n",
       "       ...,\n",
       "       [4, 4, 6, ..., 2, 2, 2],\n",
       "       [4, 5, 6, ..., 2, 2, 2],\n",
       "       [4, 6, 6, ..., 2, 2, 2]])"
      ]
     },
     "execution_count": 371,
     "metadata": {},
     "output_type": "execute_result"
    }
   ],
   "source": [
    "score"
   ]
  },
  {
   "cell_type": "code",
   "execution_count": 372,
   "id": "cabcbc1c",
   "metadata": {},
   "outputs": [
    {
     "data": {
      "text/plain": [
       "8"
      ]
     },
     "execution_count": 372,
     "metadata": {},
     "output_type": "execute_result"
    }
   ],
   "source": [
    "score.max()"
   ]
  },
  {
   "cell_type": "code",
   "execution_count": 373,
   "id": "6cfa4c53",
   "metadata": {},
   "outputs": [
    {
     "data": {
      "text/plain": [
       "-2"
      ]
     },
     "execution_count": 373,
     "metadata": {},
     "output_type": "execute_result"
    }
   ],
   "source": [
    "score.min()"
   ]
  },
  {
   "cell_type": "code",
   "execution_count": null,
   "id": "d8a7d96d",
   "metadata": {},
   "outputs": [],
   "source": []
  },
  {
   "cell_type": "code",
   "execution_count": 374,
   "id": "45bc1d10",
   "metadata": {},
   "outputs": [],
   "source": [
    "import seaborn as sns\n"
   ]
  },
  {
   "cell_type": "code",
   "execution_count": null,
   "id": "92e5a12c",
   "metadata": {},
   "outputs": [],
   "source": [
    "# score_exp = np.exp((score-score.max()-0.5))\n",
    "score_exp = np.power(10., score)\n",
    "# score_exp = np.exp(np.log(10)*(score - score.max()))\n",
    "score_exp = (score_exp - score_exp.min()) / (score_exp.max() - score_exp.min())\n"
   ]
  },
  {
   "cell_type": "code",
   "execution_count": 379,
   "id": "e1111a46",
   "metadata": {},
   "outputs": [
    {
     "data": {
      "text/plain": [
       "<AxesSubplot:ylabel='Count'>"
      ]
     },
     "execution_count": 379,
     "metadata": {},
     "output_type": "execute_result"
    },
    {
     "data": {
      "image/png": "[encoded data removed]",
      "text/plain": [
       "<Figure size 1200x800 with 1 Axes>"
      ]
     },
     "metadata": {
      "needs_background": "light"
     },
     "output_type": "display_data"
    }
   ],
   "source": [
    "fig = plt.figure(dpi=200)\n",
    "sns.histplot(score_exp.reshape(-1))"
   ]
  },
  {
   "cell_type": "code",
   "execution_count": 378,
   "id": "793eb3cc",
   "metadata": {},
   "outputs": [
    {
     "data": {
      "text/plain": [
       "<matplotlib.image.AxesImage at 0x150ab2aee8d0>"
      ]
     },
     "execution_count": 378,
     "metadata": {},
     "output_type": "execute_result"
    },
    {
     "data": {
      "image/png": "[encoded data removed]",
      "text/plain": [
       "<Figure size 432x288 with 1 Axes>"
      ]
     },
     "metadata": {
      "needs_background": "light"
     },
     "output_type": "display_data"
    }
   ],
   "source": [
    "plt.imshow(score_exp)"
   ]
  },
  {
   "cell_type": "code",
   "execution_count": null,
   "id": "69de404a",
   "metadata": {},
   "outputs": [],
   "source": []
  },
  {
   "cell_type": "code",
   "execution_count": null,
   "id": "e650222e",
   "metadata": {},
   "outputs": [],
   "source": []
  },
  {
   "cell_type": "code",
   "execution_count": null,
   "id": "970d1614",
   "metadata": {},
   "outputs": [],
   "source": []
  }
 ],
 "metadata": {
  "kernelspec": {
   "display_name": "Python [conda env:chem]",
   "language": "python",
   "name": "conda-env-chem-py"
  },
  "language_info": {
   "codemirror_mode": {
    "name": "ipython",
    "version": 3
   },
   "file_extension": ".py",
   "mimetype": "text/x-python",
   "name": "python",
   "nbconvert_exporter": "python",
   "pygments_lexer": "ipython3",
   "version": "3.7.11"
  }
 },
 "nbformat": 4,
 "nbformat_minor": 5
}
