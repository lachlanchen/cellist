{
 "cells": [
  {
   "cell_type": "code",
   "execution_count": 361,
   "id": "addd0109",
   "metadata": {},
   "outputs": [],
   "source": [
    "import numpy as np"
   ]
  },
  {
   "cell_type": "code",
   "execution_count": 362,
   "id": "68ead4b4",
   "metadata": {},
   "outputs": [],
   "source": [
    "import matplotlib.pyplot as plt"
   ]
  },
  {
   "cell_type": "code",
   "execution_count": 363,
   "id": "e68f41bf",
   "metadata": {},
   "outputs": [],
   "source": [
    "x = np.arange(100)\n",
    "y = np.arange(100)\n",
    "xy = np.meshgrid(x, y)\n",
    "xy = np.stack(xy, axis=-1)"
   ]
  },
  {
   "cell_type": "code",
   "execution_count": 364,
   "id": "fd38a570",
   "metadata": {},
   "outputs": [
    {
     "data": {
      "text/plain": [
       "(100, 100, 2)"
      ]
     },
     "execution_count": 364,
     "metadata": {},
     "output_type": "execute_result"
    }
   ],
   "source": [
    "xy.shape"
   ]
  },
  {
   "cell_type": "code",
   "execution_count": null,
   "id": "097d9f81",
   "metadata": {},
   "outputs": [],
   "source": []
  },
  {
   "cell_type": "code",
   "execution_count": 450,
   "id": "2e57c29a",
   "metadata": {},
   "outputs": [],
   "source": [
    "# vertices = np.array([[20, 60], [55, 20], [80, 45], [55, 35]])\n",
    "\n",
    "\n",
    "# vertices = np.array([[80, 45], [20, 60], [55, 20], [55, 70]])\n",
    "vertices = np.array([[20, 60], [55, 20], [80, 35], [95, 35], [55, 70]])"
   ]
  },
  {
   "cell_type": "code",
   "execution_count": 451,
   "id": "1961c944",
   "metadata": {},
   "outputs": [],
   "source": [
    "img = np.zeros((100, 100))\n",
    "img[vertices[:, 1], vertices[:, 0]]= 1"
   ]
  },
  {
   "cell_type": "code",
   "execution_count": 452,
   "id": "bb544ecc",
   "metadata": {},
   "outputs": [
    {
     "data": {
      "text/plain": [
       "<matplotlib.image.AxesImage at 0x7f96ef11d5b0>"
      ]
     },
     "execution_count": 452,
     "metadata": {},
     "output_type": "execute_result"
    },
    {
     "data": {
      "image/png": "[encoded data removed]",
      "text/plain": [
       "<Figure size 600x400 with 1 Axes>"
      ]
     },
     "metadata": {
      "needs_background": "light"
     },
     "output_type": "display_data"
    }
   ],
   "source": [
    "fig = plt.figure(dpi=100)\n",
    "plt.imshow(img)"
   ]
  },
  {
   "cell_type": "code",
   "execution_count": 453,
   "id": "08cf79d4",
   "metadata": {},
   "outputs": [],
   "source": [
    "pos_mean = vertices.mean(axis=0, keepdims=True)"
   ]
  },
  {
   "cell_type": "code",
   "execution_count": 454,
   "id": "eba028d2",
   "metadata": {},
   "outputs": [
    {
     "data": {
      "text/plain": [
       "array([[61., 44.]])"
      ]
     },
     "execution_count": 454,
     "metadata": {},
     "output_type": "execute_result"
    }
   ],
   "source": [
    "pos_mean"
   ]
  },
  {
   "cell_type": "code",
   "execution_count": 455,
   "id": "f2946cff",
   "metadata": {},
   "outputs": [],
   "source": [
    "directions = vertices - pos_mean"
   ]
  },
  {
   "cell_type": "code",
   "execution_count": 456,
   "id": "b27beaae",
   "metadata": {},
   "outputs": [
    {
     "data": {
      "text/plain": [
       "array([[-41.,  16.],\n",
       "       [ -6., -24.],\n",
       "       [ 19.,  -9.],\n",
       "       [ 34.,  -9.],\n",
       "       [ -6.,  26.]])"
      ]
     },
     "execution_count": 456,
     "metadata": {},
     "output_type": "execute_result"
    }
   ],
   "source": [
    "directions"
   ]
  },
  {
   "cell_type": "code",
   "execution_count": 457,
   "id": "5fcaea85",
   "metadata": {},
   "outputs": [],
   "source": [
    "a = []\n",
    "b = []\n",
    "for i in range(4):\n",
    "    for j in range(4):\n",
    "        if i != j:\n",
    "            a.append(i)\n",
    "            b.append(j)"
   ]
  },
  {
   "cell_type": "code",
   "execution_count": 458,
   "id": "7d6d0b57",
   "metadata": {},
   "outputs": [],
   "source": [
    "a = [0,1,2,3,4]"
   ]
  },
  {
   "cell_type": "code",
   "execution_count": 459,
   "id": "f0afed6f",
   "metadata": {},
   "outputs": [],
   "source": [
    "b = [1,2,3,4,0]"
   ]
  },
  {
   "cell_type": "code",
   "execution_count": null,
   "id": "6d2a76f7",
   "metadata": {},
   "outputs": [],
   "source": []
  },
  {
   "cell_type": "code",
   "execution_count": 460,
   "id": "a5a0725b",
   "metadata": {},
   "outputs": [],
   "source": [
    "cross_ref = directions[a] * directions[b, ::-1] * np.array([[1, -1.]])"
   ]
  },
  {
   "cell_type": "code",
   "execution_count": 461,
   "id": "6d5c5ba3",
   "metadata": {},
   "outputs": [
    {
     "data": {
      "text/plain": [
       "array([[ 984.,   96.],\n",
       "       [  54.,  456.],\n",
       "       [-171.,  306.],\n",
       "       [ 884.,  -54.],\n",
       "       [ -96., 1066.]])"
      ]
     },
     "execution_count": 461,
     "metadata": {},
     "output_type": "execute_result"
    }
   ],
   "source": [
    "cross_ref"
   ]
  },
  {
   "cell_type": "code",
   "execution_count": 462,
   "id": "f35cd461",
   "metadata": {},
   "outputs": [],
   "source": [
    "cross_ref = cross_ref.sum(axis=-1)"
   ]
  },
  {
   "cell_type": "code",
   "execution_count": 463,
   "id": "11ec4727",
   "metadata": {},
   "outputs": [
    {
     "data": {
      "text/plain": [
       "array([1080.,  510.,  135.,  830.,  970.])"
      ]
     },
     "execution_count": 463,
     "metadata": {},
     "output_type": "execute_result"
    }
   ],
   "source": [
    "cross_ref"
   ]
  },
  {
   "cell_type": "code",
   "execution_count": 464,
   "id": "62af5a60",
   "metadata": {},
   "outputs": [],
   "source": [
    "score = xy - vertices[:, None, None, :]"
   ]
  },
  {
   "cell_type": "code",
   "execution_count": 465,
   "id": "f6ce3f69",
   "metadata": {},
   "outputs": [
    {
     "data": {
      "text/plain": [
       "(5, 100, 100, 2)"
      ]
     },
     "execution_count": 465,
     "metadata": {},
     "output_type": "execute_result"
    }
   ],
   "source": [
    "score.shape"
   ]
  },
  {
   "cell_type": "code",
   "execution_count": 466,
   "id": "62231d6e",
   "metadata": {},
   "outputs": [
    {
     "data": {
      "text/plain": [
       "(100, 100, 2)"
      ]
     },
     "execution_count": 466,
     "metadata": {},
     "output_type": "execute_result"
    }
   ],
   "source": [
    "xy.shape"
   ]
  },
  {
   "cell_type": "code",
   "execution_count": 467,
   "id": "a54fa63c",
   "metadata": {},
   "outputs": [],
   "source": [
    "score = vertices[:, None, None, :] - xy\n",
    "score = score[a] * score[b, :, :, ::-1] * np.array([1, -1])\n",
    "# score = 1/(1+ np.exp(np.sign(score.sum(axis=-1)).sum(0)*-5))\n",
    "score = (np.sign(score.sum(axis=-1)) * np.sign(cross_ref[:, None, None])).sum(0)\n"
   ]
  },
  {
   "cell_type": "code",
   "execution_count": 468,
   "id": "08c39f4d",
   "metadata": {},
   "outputs": [
    {
     "data": {
      "text/plain": [
       "array([[1., 1., 1., ..., 1., 1., 1.],\n",
       "       [1., 1., 1., ..., 1., 1., 1.],\n",
       "       [1., 1., 1., ..., 1., 1., 1.],\n",
       "       ...,\n",
       "       [3., 3., 3., ..., 1., 1., 1.],\n",
       "       [3., 3., 3., ..., 1., 1., 1.],\n",
       "       [3., 3., 3., ..., 1., 1., 1.]])"
      ]
     },
     "execution_count": 468,
     "metadata": {},
     "output_type": "execute_result"
    }
   ],
   "source": [
    "score"
   ]
  },
  {
   "cell_type": "code",
   "execution_count": 469,
   "id": "4d14e266",
   "metadata": {},
   "outputs": [
    {
     "data": {
      "text/plain": [
       "5.0"
      ]
     },
     "execution_count": 469,
     "metadata": {},
     "output_type": "execute_result"
    }
   ],
   "source": [
    "score.max()"
   ]
  },
  {
   "cell_type": "code",
   "execution_count": 470,
   "id": "6a4e11a4",
   "metadata": {},
   "outputs": [
    {
     "data": {
      "text/plain": [
       "-1.0"
      ]
     },
     "execution_count": 470,
     "metadata": {},
     "output_type": "execute_result"
    }
   ],
   "source": [
    "score.min()"
   ]
  },
  {
   "cell_type": "code",
   "execution_count": 471,
   "id": "ff2684a6",
   "metadata": {},
   "outputs": [],
   "source": [
    "score_exp = np.exp(score)\n",
    "score_exp = (score_exp - score_exp.min()) / (score_exp.max() - score_exp.min())"
   ]
  },
  {
   "cell_type": "code",
   "execution_count": 472,
   "id": "43f7e1dc",
   "metadata": {},
   "outputs": [
    {
     "data": {
      "text/plain": [
       "<matplotlib.image.AxesImage at 0x7f96ef08c910>"
      ]
     },
     "execution_count": 472,
     "metadata": {},
     "output_type": "execute_result"
    },
    {
     "data": {
      "image/png": "[encoded data removed]",
      "text/plain": [
       "<Figure size 432x288 with 1 Axes>"
      ]
     },
     "metadata": {
      "needs_background": "light"
     },
     "output_type": "display_data"
    }
   ],
   "source": [
    "plt.imshow(np.exp(score_exp))"
   ]
  },
  {
   "cell_type": "code",
   "execution_count": null,
   "id": "28f03cf0",
   "metadata": {},
   "outputs": [],
   "source": []
  },
  {
   "cell_type": "code",
   "execution_count": null,
   "id": "b5e84d21",
   "metadata": {},
   "outputs": [],
   "source": []
  },
  {
   "cell_type": "code",
   "execution_count": null,
   "id": "78a94153",
   "metadata": {},
   "outputs": [],
   "source": []
  }
 ],
 "metadata": {
  "kernelspec": {
   "display_name": "Python [conda env:chem]",
   "language": "python",
   "name": "conda-env-chem-py"
  },
  "language_info": {
   "codemirror_mode": {
    "name": "ipython",
    "version": 3
   },
   "file_extension": ".py",
   "mimetype": "text/x-python",
   "name": "python",
   "nbconvert_exporter": "python",
   "pygments_lexer": "ipython3",
   "version": "3.7.11"
  }
 },
 "nbformat": 4,
 "nbformat_minor": 5
}
